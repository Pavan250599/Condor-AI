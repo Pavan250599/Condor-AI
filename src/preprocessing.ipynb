{
 "cells": [
  {
   "cell_type": "code",
   "execution_count": 9,
   "id": "f4e2b4dc",
   "metadata": {},
   "outputs": [],
   "source": [
    "# Importing Libraries\n",
    "import pandas as pd"
   ]
  },
  {
   "cell_type": "code",
   "execution_count": 10,
   "id": "7c9f8a1c",
   "metadata": {},
   "outputs": [
    {
     "data": {
      "text/html": [
       "<div>\n",
       "<style scoped>\n",
       "    .dataframe tbody tr th:only-of-type {\n",
       "        vertical-align: middle;\n",
       "    }\n",
       "\n",
       "    .dataframe tbody tr th {\n",
       "        vertical-align: top;\n",
       "    }\n",
       "\n",
       "    .dataframe thead th {\n",
       "        text-align: right;\n",
       "    }\n",
       "</style>\n",
       "<table border=\"1\" class=\"dataframe\">\n",
       "  <thead>\n",
       "    <tr style=\"text-align: right;\">\n",
       "      <th></th>\n",
       "      <th>Open</th>\n",
       "      <th>High</th>\n",
       "      <th>Low</th>\n",
       "      <th>Close</th>\n",
       "      <th>Volume</th>\n",
       "    </tr>\n",
       "    <tr>\n",
       "      <th>Date</th>\n",
       "      <th></th>\n",
       "      <th></th>\n",
       "      <th></th>\n",
       "      <th></th>\n",
       "      <th></th>\n",
       "    </tr>\n",
       "  </thead>\n",
       "  <tbody>\n",
       "    <tr>\n",
       "      <th>2005-01-03</th>\n",
       "      <td>354.4090</td>\n",
       "      <td>371.0712</td>\n",
       "      <td>354.4090</td>\n",
       "      <td>370.1174</td>\n",
       "      <td>23685843.0</td>\n",
       "    </tr>\n",
       "    <tr>\n",
       "      <th>2005-01-04</th>\n",
       "      <td>364.5974</td>\n",
       "      <td>371.3782</td>\n",
       "      <td>360.8490</td>\n",
       "      <td>361.7348</td>\n",
       "      <td>20119886.0</td>\n",
       "    </tr>\n",
       "    <tr>\n",
       "      <th>2005-01-05</th>\n",
       "      <td>358.1232</td>\n",
       "      <td>363.9158</td>\n",
       "      <td>351.8194</td>\n",
       "      <td>361.1214</td>\n",
       "      <td>33908532.0</td>\n",
       "    </tr>\n",
       "    <tr>\n",
       "      <th>2005-01-06</th>\n",
       "      <td>357.7824</td>\n",
       "      <td>365.6194</td>\n",
       "      <td>356.1470</td>\n",
       "      <td>358.4298</td>\n",
       "      <td>26893035.0</td>\n",
       "    </tr>\n",
       "    <tr>\n",
       "      <th>2005-01-07</th>\n",
       "      <td>359.8268</td>\n",
       "      <td>373.1158</td>\n",
       "      <td>359.5200</td>\n",
       "      <td>368.5838</td>\n",
       "      <td>33939690.0</td>\n",
       "    </tr>\n",
       "    <tr>\n",
       "      <th>...</th>\n",
       "      <td>...</td>\n",
       "      <td>...</td>\n",
       "      <td>...</td>\n",
       "      <td>...</td>\n",
       "      <td>...</td>\n",
       "    </tr>\n",
       "    <tr>\n",
       "      <th>2025-04-04</th>\n",
       "      <td>1240.0000</td>\n",
       "      <td>1245.2000</td>\n",
       "      <td>1192.8500</td>\n",
       "      <td>1204.7000</td>\n",
       "      <td>785059.0</td>\n",
       "    </tr>\n",
       "    <tr>\n",
       "      <th>2025-04-07</th>\n",
       "      <td>1125.0000</td>\n",
       "      <td>1171.0000</td>\n",
       "      <td>1115.5500</td>\n",
       "      <td>1166.2000</td>\n",
       "      <td>1433461.0</td>\n",
       "    </tr>\n",
       "    <tr>\n",
       "      <th>2025-04-08</th>\n",
       "      <td>1177.8500</td>\n",
       "      <td>1196.8000</td>\n",
       "      <td>1163.8500</td>\n",
       "      <td>1182.4000</td>\n",
       "      <td>894893.0</td>\n",
       "    </tr>\n",
       "    <tr>\n",
       "      <th>2025-04-09</th>\n",
       "      <td>1172.4000</td>\n",
       "      <td>1189.5000</td>\n",
       "      <td>1169.1000</td>\n",
       "      <td>1185.6000</td>\n",
       "      <td>495957.0</td>\n",
       "    </tr>\n",
       "    <tr>\n",
       "      <th>2025-04-11</th>\n",
       "      <td>1200.0000</td>\n",
       "      <td>1222.4500</td>\n",
       "      <td>1197.0500</td>\n",
       "      <td>1219.3000</td>\n",
       "      <td>684519.0</td>\n",
       "    </tr>\n",
       "  </tbody>\n",
       "</table>\n",
       "<p>4995 rows × 5 columns</p>\n",
       "</div>"
      ],
      "text/plain": [
       "                 Open       High        Low      Close      Volume\n",
       "Date                                                              \n",
       "2005-01-03   354.4090   371.0712   354.4090   370.1174  23685843.0\n",
       "2005-01-04   364.5974   371.3782   360.8490   361.7348  20119886.0\n",
       "2005-01-05   358.1232   363.9158   351.8194   361.1214  33908532.0\n",
       "2005-01-06   357.7824   365.6194   356.1470   358.4298  26893035.0\n",
       "2005-01-07   359.8268   373.1158   359.5200   368.5838  33939690.0\n",
       "...               ...        ...        ...        ...         ...\n",
       "2025-04-04  1240.0000  1245.2000  1192.8500  1204.7000    785059.0\n",
       "2025-04-07  1125.0000  1171.0000  1115.5500  1166.2000   1433461.0\n",
       "2025-04-08  1177.8500  1196.8000  1163.8500  1182.4000    894893.0\n",
       "2025-04-09  1172.4000  1189.5000  1169.1000  1185.6000    495957.0\n",
       "2025-04-11  1200.0000  1222.4500  1197.0500  1219.3000    684519.0\n",
       "\n",
       "[4995 rows x 5 columns]"
      ]
     },
     "execution_count": 10,
     "metadata": {},
     "output_type": "execute_result"
    }
   ],
   "source": [
    "# Load the CSV\n",
    "df = pd.read_csv(\"/workspaces/codespaces-jupyter/Assignment/data/RELIANCE.BSE_historical_20250414_084011.csv\",index_col=\"Date\", parse_dates=True)\n",
    "df"
   ]
  },
  {
   "cell_type": "code",
   "execution_count": 11,
   "id": "cc628715",
   "metadata": {},
   "outputs": [],
   "source": [
    "# Step 2: Convert all columns to float\n",
    "df = df.astype(float)"
   ]
  },
  {
   "cell_type": "code",
   "execution_count": 12,
   "id": "d8f48492",
   "metadata": {},
   "outputs": [],
   "source": [
    "# Sort by date (just to be safe)\n",
    "df = df.sort_index()"
   ]
  },
  {
   "cell_type": "code",
   "execution_count": 13,
   "id": "a3bffad6",
   "metadata": {},
   "outputs": [],
   "source": [
    "# Feature Engineering\n",
    "df[\"return_pct\"] = df[\"Close\"].pct_change()\n",
    "df[\"volume_change\"] = df[\"Volume\"].pct_change()\n",
    "df[\"ma_5\"] = df[\"Close\"].rolling(window=5).mean()\n",
    "df[\"ma_20\"] = df[\"Close\"].rolling(window=20).mean()\n",
    "df[\"std_5\"] = df[\"Close\"].rolling(window=5).std()\n",
    "df[\"std_20\"] = df[\"Close\"].rolling(window=20).std()\n",
    "df[\"price_diff\"] = df[\"Close\"] - df[\"Open\"]"
   ]
  },
  {
   "cell_type": "code",
   "execution_count": 14,
   "id": "b1ce49a2",
   "metadata": {},
   "outputs": [],
   "source": [
    "# Label for classification (1 if price goes up next day, else 0)\n",
    "df[\"target_up_down\"] = (df[\"Close\"].shift(-1) > df[\"Close\"]).astype(int)"
   ]
  },
  {
   "cell_type": "code",
   "execution_count": 15,
   "id": "c510df0e",
   "metadata": {},
   "outputs": [],
   "source": [
    "# Drop NaN values generated due to rolling operations\n",
    "df.dropna(inplace=True)"
   ]
  },
  {
   "cell_type": "code",
   "execution_count": 16,
   "id": "8021bed6",
   "metadata": {},
   "outputs": [],
   "source": [
    "# Save to new file\n",
    "df.to_csv(\"/workspaces/codespaces-jupyter/Assignment/data/stock_features.csv\")\n"
   ]
  }
 ],
 "metadata": {
  "kernelspec": {
   "display_name": "Python 3",
   "language": "python",
   "name": "python3"
  },
  "language_info": {
   "codemirror_mode": {
    "name": "ipython",
    "version": 3
   },
   "file_extension": ".py",
   "mimetype": "text/x-python",
   "name": "python",
   "nbconvert_exporter": "python",
   "pygments_lexer": "ipython3",
   "version": "3.12.1"
  }
 },
 "nbformat": 4,
 "nbformat_minor": 5
}
